{
  "nbformat": 4,
  "nbformat_minor": 0,
  "metadata": {
    "colab": {
      "name": "bitcoinprice.ipynb",
      "provenance": [],
      "collapsed_sections": []
    },
    "kernelspec": {
      "name": "python3",
      "display_name": "Python 3"
    },
    "language_info": {
      "name": "python"
    },
    "accelerator": "GPU"
  },
  "cells": [
    {
      "cell_type": "markdown",
      "source": [
        "Read All Libraries"
      ],
      "metadata": {
        "id": "QCeoo9Nx7g3Y"
      }
    },
    {
      "cell_type": "code",
      "execution_count": null,
      "metadata": {
        "id": "AV5zjWcdZ_nM"
      },
      "outputs": [],
      "source": [
        "\n",
        "import pandas as pd\n",
        "import numpy as np\n",
        "from sklearn.metrics import mean_absolute_error,mean_squared_error,explained_variance_score\n",
        "from math import sqrt\n",
        "from sklearn.ensemble import RandomForestRegressor\n",
        "from sklearn.tree import DecisionTreeRegressor"
      ]
    },
    {
      "cell_type": "markdown",
      "source": [
        "Read Data"
      ],
      "metadata": {
        "id": "8RMDb0Bz7s8g"
      }
    },
    {
      "cell_type": "code",
      "source": [
        "data=pd.read_csv('/content/drive/MyDrive/dataset/bitstampUSD_1-min_data_2012-01-01_to_2021-03-31.csv')"
      ],
      "metadata": {
        "id": "uli_rVcYd1h3"
      },
      "execution_count": null,
      "outputs": []
    },
    {
      "cell_type": "code",
      "source": [
        "data"
      ],
      "metadata": {
        "colab": {
          "base_uri": "https://localhost:8080/",
          "height": 424
        },
        "id": "MarcdtcoeDzD",
        "outputId": "edd89b78-53d0-4392-ca2d-0c239f8eecd7"
      },
      "execution_count": null,
      "outputs": [
        {
          "output_type": "execute_result",
          "data": {
            "text/html": [
              "\n",
              "  <div id=\"df-804b2687-dc4a-4f34-946f-73dc78b431c3\">\n",
              "    <div class=\"colab-df-container\">\n",
              "      <div>\n",
              "<style scoped>\n",
              "    .dataframe tbody tr th:only-of-type {\n",
              "        vertical-align: middle;\n",
              "    }\n",
              "\n",
              "    .dataframe tbody tr th {\n",
              "        vertical-align: top;\n",
              "    }\n",
              "\n",
              "    .dataframe thead th {\n",
              "        text-align: right;\n",
              "    }\n",
              "</style>\n",
              "<table border=\"1\" class=\"dataframe\">\n",
              "  <thead>\n",
              "    <tr style=\"text-align: right;\">\n",
              "      <th></th>\n",
              "      <th>Timestamp</th>\n",
              "      <th>Open</th>\n",
              "      <th>High</th>\n",
              "      <th>Low</th>\n",
              "      <th>Close</th>\n",
              "      <th>Volume_BTC</th>\n",
              "      <th>Volume_Currency</th>\n",
              "      <th>Weighted_Price</th>\n",
              "    </tr>\n",
              "  </thead>\n",
              "  <tbody>\n",
              "    <tr>\n",
              "      <th>0</th>\n",
              "      <td>1325317920</td>\n",
              "      <td>4.39</td>\n",
              "      <td>4.39</td>\n",
              "      <td>4.39</td>\n",
              "      <td>4.39</td>\n",
              "      <td>0.455581</td>\n",
              "      <td>2.000000</td>\n",
              "      <td>4.390000</td>\n",
              "    </tr>\n",
              "    <tr>\n",
              "      <th>1</th>\n",
              "      <td>1325317980</td>\n",
              "      <td>NaN</td>\n",
              "      <td>NaN</td>\n",
              "      <td>NaN</td>\n",
              "      <td>NaN</td>\n",
              "      <td>NaN</td>\n",
              "      <td>NaN</td>\n",
              "      <td>NaN</td>\n",
              "    </tr>\n",
              "    <tr>\n",
              "      <th>2</th>\n",
              "      <td>1325318040</td>\n",
              "      <td>NaN</td>\n",
              "      <td>NaN</td>\n",
              "      <td>NaN</td>\n",
              "      <td>NaN</td>\n",
              "      <td>NaN</td>\n",
              "      <td>NaN</td>\n",
              "      <td>NaN</td>\n",
              "    </tr>\n",
              "    <tr>\n",
              "      <th>3</th>\n",
              "      <td>1325318100</td>\n",
              "      <td>NaN</td>\n",
              "      <td>NaN</td>\n",
              "      <td>NaN</td>\n",
              "      <td>NaN</td>\n",
              "      <td>NaN</td>\n",
              "      <td>NaN</td>\n",
              "      <td>NaN</td>\n",
              "    </tr>\n",
              "    <tr>\n",
              "      <th>4</th>\n",
              "      <td>1325318160</td>\n",
              "      <td>NaN</td>\n",
              "      <td>NaN</td>\n",
              "      <td>NaN</td>\n",
              "      <td>NaN</td>\n",
              "      <td>NaN</td>\n",
              "      <td>NaN</td>\n",
              "      <td>NaN</td>\n",
              "    </tr>\n",
              "    <tr>\n",
              "      <th>...</th>\n",
              "      <td>...</td>\n",
              "      <td>...</td>\n",
              "      <td>...</td>\n",
              "      <td>...</td>\n",
              "      <td>...</td>\n",
              "      <td>...</td>\n",
              "      <td>...</td>\n",
              "      <td>...</td>\n",
              "    </tr>\n",
              "    <tr>\n",
              "      <th>1048570</th>\n",
              "      <td>1388232120</td>\n",
              "      <td>734.60</td>\n",
              "      <td>734.60</td>\n",
              "      <td>730.00</td>\n",
              "      <td>734.55</td>\n",
              "      <td>1.789687</td>\n",
              "      <td>1313.640757</td>\n",
              "      <td>734.005698</td>\n",
              "    </tr>\n",
              "    <tr>\n",
              "      <th>1048571</th>\n",
              "      <td>1388232180</td>\n",
              "      <td>734.55</td>\n",
              "      <td>734.55</td>\n",
              "      <td>730.71</td>\n",
              "      <td>730.71</td>\n",
              "      <td>0.110236</td>\n",
              "      <td>80.802051</td>\n",
              "      <td>732.991499</td>\n",
              "    </tr>\n",
              "    <tr>\n",
              "      <th>1048572</th>\n",
              "      <td>1388232240</td>\n",
              "      <td>734.40</td>\n",
              "      <td>734.40</td>\n",
              "      <td>730.51</td>\n",
              "      <td>730.51</td>\n",
              "      <td>0.554786</td>\n",
              "      <td>407.247985</td>\n",
              "      <td>734.063488</td>\n",
              "    </tr>\n",
              "    <tr>\n",
              "      <th>1048573</th>\n",
              "      <td>1388232300</td>\n",
              "      <td>730.51</td>\n",
              "      <td>733.63</td>\n",
              "      <td>730.51</td>\n",
              "      <td>731.10</td>\n",
              "      <td>0.620446</td>\n",
              "      <td>453.777190</td>\n",
              "      <td>731.372707</td>\n",
              "    </tr>\n",
              "    <tr>\n",
              "      <th>1048574</th>\n",
              "      <td>1388232360</td>\n",
              "      <td>733.00</td>\n",
              "      <td>734.00</td>\n",
              "      <td>733.00</td>\n",
              "      <td>734.00</td>\n",
              "      <td>9.214205</td>\n",
              "      <td>6757.415227</td>\n",
              "      <td>733.369303</td>\n",
              "    </tr>\n",
              "  </tbody>\n",
              "</table>\n",
              "<p>1048575 rows × 8 columns</p>\n",
              "</div>\n",
              "      <button class=\"colab-df-convert\" onclick=\"convertToInteractive('df-804b2687-dc4a-4f34-946f-73dc78b431c3')\"\n",
              "              title=\"Convert this dataframe to an interactive table.\"\n",
              "              style=\"display:none;\">\n",
              "        \n",
              "  <svg xmlns=\"http://www.w3.org/2000/svg\" height=\"24px\"viewBox=\"0 0 24 24\"\n",
              "       width=\"24px\">\n",
              "    <path d=\"M0 0h24v24H0V0z\" fill=\"none\"/>\n",
              "    <path d=\"M18.56 5.44l.94 2.06.94-2.06 2.06-.94-2.06-.94-.94-2.06-.94 2.06-2.06.94zm-11 1L8.5 8.5l.94-2.06 2.06-.94-2.06-.94L8.5 2.5l-.94 2.06-2.06.94zm10 10l.94 2.06.94-2.06 2.06-.94-2.06-.94-.94-2.06-.94 2.06-2.06.94z\"/><path d=\"M17.41 7.96l-1.37-1.37c-.4-.4-.92-.59-1.43-.59-.52 0-1.04.2-1.43.59L10.3 9.45l-7.72 7.72c-.78.78-.78 2.05 0 2.83L4 21.41c.39.39.9.59 1.41.59.51 0 1.02-.2 1.41-.59l7.78-7.78 2.81-2.81c.8-.78.8-2.07 0-2.86zM5.41 20L4 18.59l7.72-7.72 1.47 1.35L5.41 20z\"/>\n",
              "  </svg>\n",
              "      </button>\n",
              "      \n",
              "  <style>\n",
              "    .colab-df-container {\n",
              "      display:flex;\n",
              "      flex-wrap:wrap;\n",
              "      gap: 12px;\n",
              "    }\n",
              "\n",
              "    .colab-df-convert {\n",
              "      background-color: #E8F0FE;\n",
              "      border: none;\n",
              "      border-radius: 50%;\n",
              "      cursor: pointer;\n",
              "      display: none;\n",
              "      fill: #1967D2;\n",
              "      height: 32px;\n",
              "      padding: 0 0 0 0;\n",
              "      width: 32px;\n",
              "    }\n",
              "\n",
              "    .colab-df-convert:hover {\n",
              "      background-color: #E2EBFA;\n",
              "      box-shadow: 0px 1px 2px rgba(60, 64, 67, 0.3), 0px 1px 3px 1px rgba(60, 64, 67, 0.15);\n",
              "      fill: #174EA6;\n",
              "    }\n",
              "\n",
              "    [theme=dark] .colab-df-convert {\n",
              "      background-color: #3B4455;\n",
              "      fill: #D2E3FC;\n",
              "    }\n",
              "\n",
              "    [theme=dark] .colab-df-convert:hover {\n",
              "      background-color: #434B5C;\n",
              "      box-shadow: 0px 1px 3px 1px rgba(0, 0, 0, 0.15);\n",
              "      filter: drop-shadow(0px 1px 2px rgba(0, 0, 0, 0.3));\n",
              "      fill: #FFFFFF;\n",
              "    }\n",
              "  </style>\n",
              "\n",
              "      <script>\n",
              "        const buttonEl =\n",
              "          document.querySelector('#df-804b2687-dc4a-4f34-946f-73dc78b431c3 button.colab-df-convert');\n",
              "        buttonEl.style.display =\n",
              "          google.colab.kernel.accessAllowed ? 'block' : 'none';\n",
              "\n",
              "        async function convertToInteractive(key) {\n",
              "          const element = document.querySelector('#df-804b2687-dc4a-4f34-946f-73dc78b431c3');\n",
              "          const dataTable =\n",
              "            await google.colab.kernel.invokeFunction('convertToInteractive',\n",
              "                                                     [key], {});\n",
              "          if (!dataTable) return;\n",
              "\n",
              "          const docLinkHtml = 'Like what you see? Visit the ' +\n",
              "            '<a target=\"_blank\" href=https://colab.research.google.com/notebooks/data_table.ipynb>data table notebook</a>'\n",
              "            + ' to learn more about interactive tables.';\n",
              "          element.innerHTML = '';\n",
              "          dataTable['output_type'] = 'display_data';\n",
              "          await google.colab.output.renderOutput(dataTable, element);\n",
              "          const docLink = document.createElement('div');\n",
              "          docLink.innerHTML = docLinkHtml;\n",
              "          element.appendChild(docLink);\n",
              "        }\n",
              "      </script>\n",
              "    </div>\n",
              "  </div>\n",
              "  "
            ],
            "text/plain": [
              "          Timestamp    Open  ...  Volume_Currency  Weighted_Price\n",
              "0        1325317920    4.39  ...         2.000000        4.390000\n",
              "1        1325317980     NaN  ...              NaN             NaN\n",
              "2        1325318040     NaN  ...              NaN             NaN\n",
              "3        1325318100     NaN  ...              NaN             NaN\n",
              "4        1325318160     NaN  ...              NaN             NaN\n",
              "...             ...     ...  ...              ...             ...\n",
              "1048570  1388232120  734.60  ...      1313.640757      734.005698\n",
              "1048571  1388232180  734.55  ...        80.802051      732.991499\n",
              "1048572  1388232240  734.40  ...       407.247985      734.063488\n",
              "1048573  1388232300  730.51  ...       453.777190      731.372707\n",
              "1048574  1388232360  733.00  ...      6757.415227      733.369303\n",
              "\n",
              "[1048575 rows x 8 columns]"
            ]
          },
          "metadata": {},
          "execution_count": 34
        }
      ]
    },
    {
      "cell_type": "markdown",
      "source": [
        "Check columns contain Nan values"
      ],
      "metadata": {
        "id": "Y_p0UOqP7z8P"
      }
    },
    {
      "cell_type": "code",
      "source": [
        "data.isnull().any()"
      ],
      "metadata": {
        "colab": {
          "base_uri": "https://localhost:8080/"
        },
        "id": "GrmOm-y5eEtL",
        "outputId": "64a9c407-5e39-4636-c375-4b151d278bf5"
      },
      "execution_count": null,
      "outputs": [
        {
          "output_type": "execute_result",
          "data": {
            "text/plain": [
              "Timestamp          False\n",
              "Open                True\n",
              "High                True\n",
              "Low                 True\n",
              "Close               True\n",
              "Volume_BTC          True\n",
              "Volume_Currency     True\n",
              "Weighted_Price      True\n",
              "dtype: bool"
            ]
          },
          "metadata": {},
          "execution_count": 35
        }
      ]
    },
    {
      "cell_type": "markdown",
      "source": [
        "Drop Nan values"
      ],
      "metadata": {
        "id": "yDRlsiwe79Bq"
      }
    },
    {
      "cell_type": "code",
      "source": [
        "data.dropna(inplace=True)"
      ],
      "metadata": {
        "id": "GDS-2aS1cV8d"
      },
      "execution_count": null,
      "outputs": []
    },
    {
      "cell_type": "code",
      "source": [
        "\n",
        "data.isnull().any()"
      ],
      "metadata": {
        "colab": {
          "base_uri": "https://localhost:8080/"
        },
        "id": "PTtzmogOcbW-",
        "outputId": "12417bc2-06fb-49f2-c459-1b50b23a850a"
      },
      "execution_count": null,
      "outputs": [
        {
          "output_type": "execute_result",
          "data": {
            "text/plain": [
              "Timestamp          False\n",
              "Open               False\n",
              "High               False\n",
              "Low                False\n",
              "Close              False\n",
              "Volume_BTC         False\n",
              "Volume_Currency    False\n",
              "Weighted_Price     False\n",
              "dtype: bool"
            ]
          },
          "metadata": {},
          "execution_count": 37
        }
      ]
    },
    {
      "cell_type": "code",
      "source": [
        "data.head()"
      ],
      "metadata": {
        "colab": {
          "base_uri": "https://localhost:8080/",
          "height": 206
        },
        "id": "F-tnVfHSfVa6",
        "outputId": "39c2d1e8-ea65-4e32-9c56-5c81b7d0dd70"
      },
      "execution_count": null,
      "outputs": [
        {
          "output_type": "execute_result",
          "data": {
            "text/html": [
              "\n",
              "  <div id=\"df-7bbc9cd1-bfad-4521-b3ed-565fc6441c17\">\n",
              "    <div class=\"colab-df-container\">\n",
              "      <div>\n",
              "<style scoped>\n",
              "    .dataframe tbody tr th:only-of-type {\n",
              "        vertical-align: middle;\n",
              "    }\n",
              "\n",
              "    .dataframe tbody tr th {\n",
              "        vertical-align: top;\n",
              "    }\n",
              "\n",
              "    .dataframe thead th {\n",
              "        text-align: right;\n",
              "    }\n",
              "</style>\n",
              "<table border=\"1\" class=\"dataframe\">\n",
              "  <thead>\n",
              "    <tr style=\"text-align: right;\">\n",
              "      <th></th>\n",
              "      <th>Timestamp</th>\n",
              "      <th>Open</th>\n",
              "      <th>High</th>\n",
              "      <th>Low</th>\n",
              "      <th>Close</th>\n",
              "      <th>Volume_BTC</th>\n",
              "      <th>Volume_Currency</th>\n",
              "      <th>Weighted_Price</th>\n",
              "    </tr>\n",
              "  </thead>\n",
              "  <tbody>\n",
              "    <tr>\n",
              "      <th>0</th>\n",
              "      <td>1325317920</td>\n",
              "      <td>4.39</td>\n",
              "      <td>4.39</td>\n",
              "      <td>4.39</td>\n",
              "      <td>4.39</td>\n",
              "      <td>0.455581</td>\n",
              "      <td>2.000000</td>\n",
              "      <td>4.390000</td>\n",
              "    </tr>\n",
              "    <tr>\n",
              "      <th>478</th>\n",
              "      <td>1325346600</td>\n",
              "      <td>4.39</td>\n",
              "      <td>4.39</td>\n",
              "      <td>4.39</td>\n",
              "      <td>4.39</td>\n",
              "      <td>48.000000</td>\n",
              "      <td>210.720000</td>\n",
              "      <td>4.390000</td>\n",
              "    </tr>\n",
              "    <tr>\n",
              "      <th>547</th>\n",
              "      <td>1325350740</td>\n",
              "      <td>4.50</td>\n",
              "      <td>4.57</td>\n",
              "      <td>4.50</td>\n",
              "      <td>4.57</td>\n",
              "      <td>37.862297</td>\n",
              "      <td>171.380337</td>\n",
              "      <td>4.526411</td>\n",
              "    </tr>\n",
              "    <tr>\n",
              "      <th>548</th>\n",
              "      <td>1325350800</td>\n",
              "      <td>4.58</td>\n",
              "      <td>4.58</td>\n",
              "      <td>4.58</td>\n",
              "      <td>4.58</td>\n",
              "      <td>9.000000</td>\n",
              "      <td>41.220000</td>\n",
              "      <td>4.580000</td>\n",
              "    </tr>\n",
              "    <tr>\n",
              "      <th>1224</th>\n",
              "      <td>1325391360</td>\n",
              "      <td>4.58</td>\n",
              "      <td>4.58</td>\n",
              "      <td>4.58</td>\n",
              "      <td>4.58</td>\n",
              "      <td>1.502000</td>\n",
              "      <td>6.879160</td>\n",
              "      <td>4.580000</td>\n",
              "    </tr>\n",
              "  </tbody>\n",
              "</table>\n",
              "</div>\n",
              "      <button class=\"colab-df-convert\" onclick=\"convertToInteractive('df-7bbc9cd1-bfad-4521-b3ed-565fc6441c17')\"\n",
              "              title=\"Convert this dataframe to an interactive table.\"\n",
              "              style=\"display:none;\">\n",
              "        \n",
              "  <svg xmlns=\"http://www.w3.org/2000/svg\" height=\"24px\"viewBox=\"0 0 24 24\"\n",
              "       width=\"24px\">\n",
              "    <path d=\"M0 0h24v24H0V0z\" fill=\"none\"/>\n",
              "    <path d=\"M18.56 5.44l.94 2.06.94-2.06 2.06-.94-2.06-.94-.94-2.06-.94 2.06-2.06.94zm-11 1L8.5 8.5l.94-2.06 2.06-.94-2.06-.94L8.5 2.5l-.94 2.06-2.06.94zm10 10l.94 2.06.94-2.06 2.06-.94-2.06-.94-.94-2.06-.94 2.06-2.06.94z\"/><path d=\"M17.41 7.96l-1.37-1.37c-.4-.4-.92-.59-1.43-.59-.52 0-1.04.2-1.43.59L10.3 9.45l-7.72 7.72c-.78.78-.78 2.05 0 2.83L4 21.41c.39.39.9.59 1.41.59.51 0 1.02-.2 1.41-.59l7.78-7.78 2.81-2.81c.8-.78.8-2.07 0-2.86zM5.41 20L4 18.59l7.72-7.72 1.47 1.35L5.41 20z\"/>\n",
              "  </svg>\n",
              "      </button>\n",
              "      \n",
              "  <style>\n",
              "    .colab-df-container {\n",
              "      display:flex;\n",
              "      flex-wrap:wrap;\n",
              "      gap: 12px;\n",
              "    }\n",
              "\n",
              "    .colab-df-convert {\n",
              "      background-color: #E8F0FE;\n",
              "      border: none;\n",
              "      border-radius: 50%;\n",
              "      cursor: pointer;\n",
              "      display: none;\n",
              "      fill: #1967D2;\n",
              "      height: 32px;\n",
              "      padding: 0 0 0 0;\n",
              "      width: 32px;\n",
              "    }\n",
              "\n",
              "    .colab-df-convert:hover {\n",
              "      background-color: #E2EBFA;\n",
              "      box-shadow: 0px 1px 2px rgba(60, 64, 67, 0.3), 0px 1px 3px 1px rgba(60, 64, 67, 0.15);\n",
              "      fill: #174EA6;\n",
              "    }\n",
              "\n",
              "    [theme=dark] .colab-df-convert {\n",
              "      background-color: #3B4455;\n",
              "      fill: #D2E3FC;\n",
              "    }\n",
              "\n",
              "    [theme=dark] .colab-df-convert:hover {\n",
              "      background-color: #434B5C;\n",
              "      box-shadow: 0px 1px 3px 1px rgba(0, 0, 0, 0.15);\n",
              "      filter: drop-shadow(0px 1px 2px rgba(0, 0, 0, 0.3));\n",
              "      fill: #FFFFFF;\n",
              "    }\n",
              "  </style>\n",
              "\n",
              "      <script>\n",
              "        const buttonEl =\n",
              "          document.querySelector('#df-7bbc9cd1-bfad-4521-b3ed-565fc6441c17 button.colab-df-convert');\n",
              "        buttonEl.style.display =\n",
              "          google.colab.kernel.accessAllowed ? 'block' : 'none';\n",
              "\n",
              "        async function convertToInteractive(key) {\n",
              "          const element = document.querySelector('#df-7bbc9cd1-bfad-4521-b3ed-565fc6441c17');\n",
              "          const dataTable =\n",
              "            await google.colab.kernel.invokeFunction('convertToInteractive',\n",
              "                                                     [key], {});\n",
              "          if (!dataTable) return;\n",
              "\n",
              "          const docLinkHtml = 'Like what you see? Visit the ' +\n",
              "            '<a target=\"_blank\" href=https://colab.research.google.com/notebooks/data_table.ipynb>data table notebook</a>'\n",
              "            + ' to learn more about interactive tables.';\n",
              "          element.innerHTML = '';\n",
              "          dataTable['output_type'] = 'display_data';\n",
              "          await google.colab.output.renderOutput(dataTable, element);\n",
              "          const docLink = document.createElement('div');\n",
              "          docLink.innerHTML = docLinkHtml;\n",
              "          element.appendChild(docLink);\n",
              "        }\n",
              "      </script>\n",
              "    </div>\n",
              "  </div>\n",
              "  "
            ],
            "text/plain": [
              "       Timestamp  Open  High  ...  Volume_BTC  Volume_Currency  Weighted_Price\n",
              "0     1325317920  4.39  4.39  ...    0.455581         2.000000        4.390000\n",
              "478   1325346600  4.39  4.39  ...   48.000000       210.720000        4.390000\n",
              "547   1325350740  4.50  4.57  ...   37.862297       171.380337        4.526411\n",
              "548   1325350800  4.58  4.58  ...    9.000000        41.220000        4.580000\n",
              "1224  1325391360  4.58  4.58  ...    1.502000         6.879160        4.580000\n",
              "\n",
              "[5 rows x 8 columns]"
            ]
          },
          "metadata": {},
          "execution_count": 38
        }
      ]
    },
    {
      "cell_type": "markdown",
      "source": [
        "Convert Timestamp into date format"
      ],
      "metadata": {
        "id": "Qh-jHtUk8Dv3"
      }
    },
    {
      "cell_type": "code",
      "source": [
        "data['Timestamp'] = pd.to_datetime(data['Timestamp'], unit='s')\n",
        "data['Timestamp'] = pd.to_datetime(data['Timestamp']).dt.to_period('m')\n",
        "data.set_index(data['Timestamp'], inplace=True)\n",
        "data.drop(['Timestamp'],axis=1,inplace=True)\n",
        "data=data.to_timestamp()\n",
        "# data['Timestamp'] = pd.to_datetime(data['Timestamp'], unit='s')\n",
        "data"
      ],
      "metadata": {
        "id": "nMUjT_L7CZwm",
        "colab": {
          "base_uri": "https://localhost:8080/",
          "height": 455
        },
        "outputId": "ea13c637-8413-4069-8c4a-286fb0493909"
      },
      "execution_count": null,
      "outputs": [
        {
          "output_type": "execute_result",
          "data": {
            "text/html": [
              "\n",
              "  <div id=\"df-30b3564b-0c03-419e-add6-7a15a5f16cf3\">\n",
              "    <div class=\"colab-df-container\">\n",
              "      <div>\n",
              "<style scoped>\n",
              "    .dataframe tbody tr th:only-of-type {\n",
              "        vertical-align: middle;\n",
              "    }\n",
              "\n",
              "    .dataframe tbody tr th {\n",
              "        vertical-align: top;\n",
              "    }\n",
              "\n",
              "    .dataframe thead th {\n",
              "        text-align: right;\n",
              "    }\n",
              "</style>\n",
              "<table border=\"1\" class=\"dataframe\">\n",
              "  <thead>\n",
              "    <tr style=\"text-align: right;\">\n",
              "      <th></th>\n",
              "      <th>Open</th>\n",
              "      <th>High</th>\n",
              "      <th>Low</th>\n",
              "      <th>Close</th>\n",
              "      <th>Volume_BTC</th>\n",
              "      <th>Volume_Currency</th>\n",
              "      <th>Weighted_Price</th>\n",
              "    </tr>\n",
              "    <tr>\n",
              "      <th>Timestamp</th>\n",
              "      <th></th>\n",
              "      <th></th>\n",
              "      <th></th>\n",
              "      <th></th>\n",
              "      <th></th>\n",
              "      <th></th>\n",
              "      <th></th>\n",
              "    </tr>\n",
              "  </thead>\n",
              "  <tbody>\n",
              "    <tr>\n",
              "      <th>2011-12-01</th>\n",
              "      <td>4.39</td>\n",
              "      <td>4.39</td>\n",
              "      <td>4.39</td>\n",
              "      <td>4.39</td>\n",
              "      <td>0.455581</td>\n",
              "      <td>2.000000</td>\n",
              "      <td>4.390000</td>\n",
              "    </tr>\n",
              "    <tr>\n",
              "      <th>2011-12-01</th>\n",
              "      <td>4.39</td>\n",
              "      <td>4.39</td>\n",
              "      <td>4.39</td>\n",
              "      <td>4.39</td>\n",
              "      <td>48.000000</td>\n",
              "      <td>210.720000</td>\n",
              "      <td>4.390000</td>\n",
              "    </tr>\n",
              "    <tr>\n",
              "      <th>2011-12-01</th>\n",
              "      <td>4.50</td>\n",
              "      <td>4.57</td>\n",
              "      <td>4.50</td>\n",
              "      <td>4.57</td>\n",
              "      <td>37.862297</td>\n",
              "      <td>171.380337</td>\n",
              "      <td>4.526411</td>\n",
              "    </tr>\n",
              "    <tr>\n",
              "      <th>2011-12-01</th>\n",
              "      <td>4.58</td>\n",
              "      <td>4.58</td>\n",
              "      <td>4.58</td>\n",
              "      <td>4.58</td>\n",
              "      <td>9.000000</td>\n",
              "      <td>41.220000</td>\n",
              "      <td>4.580000</td>\n",
              "    </tr>\n",
              "    <tr>\n",
              "      <th>2012-01-01</th>\n",
              "      <td>4.58</td>\n",
              "      <td>4.58</td>\n",
              "      <td>4.58</td>\n",
              "      <td>4.58</td>\n",
              "      <td>1.502000</td>\n",
              "      <td>6.879160</td>\n",
              "      <td>4.580000</td>\n",
              "    </tr>\n",
              "    <tr>\n",
              "      <th>...</th>\n",
              "      <td>...</td>\n",
              "      <td>...</td>\n",
              "      <td>...</td>\n",
              "      <td>...</td>\n",
              "      <td>...</td>\n",
              "      <td>...</td>\n",
              "      <td>...</td>\n",
              "    </tr>\n",
              "    <tr>\n",
              "      <th>2013-12-01</th>\n",
              "      <td>734.60</td>\n",
              "      <td>734.60</td>\n",
              "      <td>730.00</td>\n",
              "      <td>734.55</td>\n",
              "      <td>1.789687</td>\n",
              "      <td>1313.640757</td>\n",
              "      <td>734.005698</td>\n",
              "    </tr>\n",
              "    <tr>\n",
              "      <th>2013-12-01</th>\n",
              "      <td>734.55</td>\n",
              "      <td>734.55</td>\n",
              "      <td>730.71</td>\n",
              "      <td>730.71</td>\n",
              "      <td>0.110236</td>\n",
              "      <td>80.802051</td>\n",
              "      <td>732.991499</td>\n",
              "    </tr>\n",
              "    <tr>\n",
              "      <th>2013-12-01</th>\n",
              "      <td>734.40</td>\n",
              "      <td>734.40</td>\n",
              "      <td>730.51</td>\n",
              "      <td>730.51</td>\n",
              "      <td>0.554786</td>\n",
              "      <td>407.247985</td>\n",
              "      <td>734.063488</td>\n",
              "    </tr>\n",
              "    <tr>\n",
              "      <th>2013-12-01</th>\n",
              "      <td>730.51</td>\n",
              "      <td>733.63</td>\n",
              "      <td>730.51</td>\n",
              "      <td>731.10</td>\n",
              "      <td>0.620446</td>\n",
              "      <td>453.777190</td>\n",
              "      <td>731.372707</td>\n",
              "    </tr>\n",
              "    <tr>\n",
              "      <th>2013-12-01</th>\n",
              "      <td>733.00</td>\n",
              "      <td>734.00</td>\n",
              "      <td>733.00</td>\n",
              "      <td>734.00</td>\n",
              "      <td>9.214205</td>\n",
              "      <td>6757.415227</td>\n",
              "      <td>733.369303</td>\n",
              "    </tr>\n",
              "  </tbody>\n",
              "</table>\n",
              "<p>342169 rows × 7 columns</p>\n",
              "</div>\n",
              "      <button class=\"colab-df-convert\" onclick=\"convertToInteractive('df-30b3564b-0c03-419e-add6-7a15a5f16cf3')\"\n",
              "              title=\"Convert this dataframe to an interactive table.\"\n",
              "              style=\"display:none;\">\n",
              "        \n",
              "  <svg xmlns=\"http://www.w3.org/2000/svg\" height=\"24px\"viewBox=\"0 0 24 24\"\n",
              "       width=\"24px\">\n",
              "    <path d=\"M0 0h24v24H0V0z\" fill=\"none\"/>\n",
              "    <path d=\"M18.56 5.44l.94 2.06.94-2.06 2.06-.94-2.06-.94-.94-2.06-.94 2.06-2.06.94zm-11 1L8.5 8.5l.94-2.06 2.06-.94-2.06-.94L8.5 2.5l-.94 2.06-2.06.94zm10 10l.94 2.06.94-2.06 2.06-.94-2.06-.94-.94-2.06-.94 2.06-2.06.94z\"/><path d=\"M17.41 7.96l-1.37-1.37c-.4-.4-.92-.59-1.43-.59-.52 0-1.04.2-1.43.59L10.3 9.45l-7.72 7.72c-.78.78-.78 2.05 0 2.83L4 21.41c.39.39.9.59 1.41.59.51 0 1.02-.2 1.41-.59l7.78-7.78 2.81-2.81c.8-.78.8-2.07 0-2.86zM5.41 20L4 18.59l7.72-7.72 1.47 1.35L5.41 20z\"/>\n",
              "  </svg>\n",
              "      </button>\n",
              "      \n",
              "  <style>\n",
              "    .colab-df-container {\n",
              "      display:flex;\n",
              "      flex-wrap:wrap;\n",
              "      gap: 12px;\n",
              "    }\n",
              "\n",
              "    .colab-df-convert {\n",
              "      background-color: #E8F0FE;\n",
              "      border: none;\n",
              "      border-radius: 50%;\n",
              "      cursor: pointer;\n",
              "      display: none;\n",
              "      fill: #1967D2;\n",
              "      height: 32px;\n",
              "      padding: 0 0 0 0;\n",
              "      width: 32px;\n",
              "    }\n",
              "\n",
              "    .colab-df-convert:hover {\n",
              "      background-color: #E2EBFA;\n",
              "      box-shadow: 0px 1px 2px rgba(60, 64, 67, 0.3), 0px 1px 3px 1px rgba(60, 64, 67, 0.15);\n",
              "      fill: #174EA6;\n",
              "    }\n",
              "\n",
              "    [theme=dark] .colab-df-convert {\n",
              "      background-color: #3B4455;\n",
              "      fill: #D2E3FC;\n",
              "    }\n",
              "\n",
              "    [theme=dark] .colab-df-convert:hover {\n",
              "      background-color: #434B5C;\n",
              "      box-shadow: 0px 1px 3px 1px rgba(0, 0, 0, 0.15);\n",
              "      filter: drop-shadow(0px 1px 2px rgba(0, 0, 0, 0.3));\n",
              "      fill: #FFFFFF;\n",
              "    }\n",
              "  </style>\n",
              "\n",
              "      <script>\n",
              "        const buttonEl =\n",
              "          document.querySelector('#df-30b3564b-0c03-419e-add6-7a15a5f16cf3 button.colab-df-convert');\n",
              "        buttonEl.style.display =\n",
              "          google.colab.kernel.accessAllowed ? 'block' : 'none';\n",
              "\n",
              "        async function convertToInteractive(key) {\n",
              "          const element = document.querySelector('#df-30b3564b-0c03-419e-add6-7a15a5f16cf3');\n",
              "          const dataTable =\n",
              "            await google.colab.kernel.invokeFunction('convertToInteractive',\n",
              "                                                     [key], {});\n",
              "          if (!dataTable) return;\n",
              "\n",
              "          const docLinkHtml = 'Like what you see? Visit the ' +\n",
              "            '<a target=\"_blank\" href=https://colab.research.google.com/notebooks/data_table.ipynb>data table notebook</a>'\n",
              "            + ' to learn more about interactive tables.';\n",
              "          element.innerHTML = '';\n",
              "          dataTable['output_type'] = 'display_data';\n",
              "          await google.colab.output.renderOutput(dataTable, element);\n",
              "          const docLink = document.createElement('div');\n",
              "          docLink.innerHTML = docLinkHtml;\n",
              "          element.appendChild(docLink);\n",
              "        }\n",
              "      </script>\n",
              "    </div>\n",
              "  </div>\n",
              "  "
            ],
            "text/plain": [
              "              Open    High     Low  ...  Volume_BTC  Volume_Currency  Weighted_Price\n",
              "Timestamp                           ...                                             \n",
              "2011-12-01    4.39    4.39    4.39  ...    0.455581         2.000000        4.390000\n",
              "2011-12-01    4.39    4.39    4.39  ...   48.000000       210.720000        4.390000\n",
              "2011-12-01    4.50    4.57    4.50  ...   37.862297       171.380337        4.526411\n",
              "2011-12-01    4.58    4.58    4.58  ...    9.000000        41.220000        4.580000\n",
              "2012-01-01    4.58    4.58    4.58  ...    1.502000         6.879160        4.580000\n",
              "...            ...     ...     ...  ...         ...              ...             ...\n",
              "2013-12-01  734.60  734.60  730.00  ...    1.789687      1313.640757      734.005698\n",
              "2013-12-01  734.55  734.55  730.71  ...    0.110236        80.802051      732.991499\n",
              "2013-12-01  734.40  734.40  730.51  ...    0.554786       407.247985      734.063488\n",
              "2013-12-01  730.51  733.63  730.51  ...    0.620446       453.777190      731.372707\n",
              "2013-12-01  733.00  734.00  733.00  ...    9.214205      6757.415227      733.369303\n",
              "\n",
              "[342169 rows x 7 columns]"
            ]
          },
          "metadata": {},
          "execution_count": 39
        }
      ]
    },
    {
      "cell_type": "code",
      "source": [
        "data=data.reset_index()"
      ],
      "metadata": {
        "id": "O9H7oLQ6Cf4A"
      },
      "execution_count": null,
      "outputs": []
    },
    {
      "cell_type": "markdown",
      "source": [
        "Split Timestamp into Day,Month and Year column"
      ],
      "metadata": {
        "id": "LJ4LNrrN8P7x"
      }
    },
    {
      "cell_type": "code",
      "source": [
        "data['day']=pd.to_datetime(data['Timestamp'],format=\"%d-%m-%Y\").dt.day\n",
        "data['month']=pd.to_datetime(data['Timestamp'],format=\"%d-%m-%Y\").dt.month\n",
        "data['year']=pd.to_datetime(data['Timestamp'],format=\"%d-%m-%Y\").dt.year\n",
        "data.head()"
      ],
      "metadata": {
        "colab": {
          "base_uri": "https://localhost:8080/",
          "height": 206
        },
        "id": "RTNwi28lqKw-",
        "outputId": "61442eee-56d5-49b2-f28d-8e36501a7754"
      },
      "execution_count": null,
      "outputs": [
        {
          "output_type": "execute_result",
          "data": {
            "text/html": [
              "\n",
              "  <div id=\"df-eadb713e-453c-4d11-af9f-9f451ec69127\">\n",
              "    <div class=\"colab-df-container\">\n",
              "      <div>\n",
              "<style scoped>\n",
              "    .dataframe tbody tr th:only-of-type {\n",
              "        vertical-align: middle;\n",
              "    }\n",
              "\n",
              "    .dataframe tbody tr th {\n",
              "        vertical-align: top;\n",
              "    }\n",
              "\n",
              "    .dataframe thead th {\n",
              "        text-align: right;\n",
              "    }\n",
              "</style>\n",
              "<table border=\"1\" class=\"dataframe\">\n",
              "  <thead>\n",
              "    <tr style=\"text-align: right;\">\n",
              "      <th></th>\n",
              "      <th>Timestamp</th>\n",
              "      <th>Open</th>\n",
              "      <th>High</th>\n",
              "      <th>Low</th>\n",
              "      <th>Close</th>\n",
              "      <th>Volume_BTC</th>\n",
              "      <th>Volume_Currency</th>\n",
              "      <th>Weighted_Price</th>\n",
              "      <th>day</th>\n",
              "      <th>month</th>\n",
              "      <th>year</th>\n",
              "    </tr>\n",
              "  </thead>\n",
              "  <tbody>\n",
              "    <tr>\n",
              "      <th>0</th>\n",
              "      <td>2011-12-01</td>\n",
              "      <td>4.39</td>\n",
              "      <td>4.39</td>\n",
              "      <td>4.39</td>\n",
              "      <td>4.39</td>\n",
              "      <td>0.455581</td>\n",
              "      <td>2.000000</td>\n",
              "      <td>4.390000</td>\n",
              "      <td>1</td>\n",
              "      <td>12</td>\n",
              "      <td>2011</td>\n",
              "    </tr>\n",
              "    <tr>\n",
              "      <th>1</th>\n",
              "      <td>2011-12-01</td>\n",
              "      <td>4.39</td>\n",
              "      <td>4.39</td>\n",
              "      <td>4.39</td>\n",
              "      <td>4.39</td>\n",
              "      <td>48.000000</td>\n",
              "      <td>210.720000</td>\n",
              "      <td>4.390000</td>\n",
              "      <td>1</td>\n",
              "      <td>12</td>\n",
              "      <td>2011</td>\n",
              "    </tr>\n",
              "    <tr>\n",
              "      <th>2</th>\n",
              "      <td>2011-12-01</td>\n",
              "      <td>4.50</td>\n",
              "      <td>4.57</td>\n",
              "      <td>4.50</td>\n",
              "      <td>4.57</td>\n",
              "      <td>37.862297</td>\n",
              "      <td>171.380337</td>\n",
              "      <td>4.526411</td>\n",
              "      <td>1</td>\n",
              "      <td>12</td>\n",
              "      <td>2011</td>\n",
              "    </tr>\n",
              "    <tr>\n",
              "      <th>3</th>\n",
              "      <td>2011-12-01</td>\n",
              "      <td>4.58</td>\n",
              "      <td>4.58</td>\n",
              "      <td>4.58</td>\n",
              "      <td>4.58</td>\n",
              "      <td>9.000000</td>\n",
              "      <td>41.220000</td>\n",
              "      <td>4.580000</td>\n",
              "      <td>1</td>\n",
              "      <td>12</td>\n",
              "      <td>2011</td>\n",
              "    </tr>\n",
              "    <tr>\n",
              "      <th>4</th>\n",
              "      <td>2012-01-01</td>\n",
              "      <td>4.58</td>\n",
              "      <td>4.58</td>\n",
              "      <td>4.58</td>\n",
              "      <td>4.58</td>\n",
              "      <td>1.502000</td>\n",
              "      <td>6.879160</td>\n",
              "      <td>4.580000</td>\n",
              "      <td>1</td>\n",
              "      <td>1</td>\n",
              "      <td>2012</td>\n",
              "    </tr>\n",
              "  </tbody>\n",
              "</table>\n",
              "</div>\n",
              "      <button class=\"colab-df-convert\" onclick=\"convertToInteractive('df-eadb713e-453c-4d11-af9f-9f451ec69127')\"\n",
              "              title=\"Convert this dataframe to an interactive table.\"\n",
              "              style=\"display:none;\">\n",
              "        \n",
              "  <svg xmlns=\"http://www.w3.org/2000/svg\" height=\"24px\"viewBox=\"0 0 24 24\"\n",
              "       width=\"24px\">\n",
              "    <path d=\"M0 0h24v24H0V0z\" fill=\"none\"/>\n",
              "    <path d=\"M18.56 5.44l.94 2.06.94-2.06 2.06-.94-2.06-.94-.94-2.06-.94 2.06-2.06.94zm-11 1L8.5 8.5l.94-2.06 2.06-.94-2.06-.94L8.5 2.5l-.94 2.06-2.06.94zm10 10l.94 2.06.94-2.06 2.06-.94-2.06-.94-.94-2.06-.94 2.06-2.06.94z\"/><path d=\"M17.41 7.96l-1.37-1.37c-.4-.4-.92-.59-1.43-.59-.52 0-1.04.2-1.43.59L10.3 9.45l-7.72 7.72c-.78.78-.78 2.05 0 2.83L4 21.41c.39.39.9.59 1.41.59.51 0 1.02-.2 1.41-.59l7.78-7.78 2.81-2.81c.8-.78.8-2.07 0-2.86zM5.41 20L4 18.59l7.72-7.72 1.47 1.35L5.41 20z\"/>\n",
              "  </svg>\n",
              "      </button>\n",
              "      \n",
              "  <style>\n",
              "    .colab-df-container {\n",
              "      display:flex;\n",
              "      flex-wrap:wrap;\n",
              "      gap: 12px;\n",
              "    }\n",
              "\n",
              "    .colab-df-convert {\n",
              "      background-color: #E8F0FE;\n",
              "      border: none;\n",
              "      border-radius: 50%;\n",
              "      cursor: pointer;\n",
              "      display: none;\n",
              "      fill: #1967D2;\n",
              "      height: 32px;\n",
              "      padding: 0 0 0 0;\n",
              "      width: 32px;\n",
              "    }\n",
              "\n",
              "    .colab-df-convert:hover {\n",
              "      background-color: #E2EBFA;\n",
              "      box-shadow: 0px 1px 2px rgba(60, 64, 67, 0.3), 0px 1px 3px 1px rgba(60, 64, 67, 0.15);\n",
              "      fill: #174EA6;\n",
              "    }\n",
              "\n",
              "    [theme=dark] .colab-df-convert {\n",
              "      background-color: #3B4455;\n",
              "      fill: #D2E3FC;\n",
              "    }\n",
              "\n",
              "    [theme=dark] .colab-df-convert:hover {\n",
              "      background-color: #434B5C;\n",
              "      box-shadow: 0px 1px 3px 1px rgba(0, 0, 0, 0.15);\n",
              "      filter: drop-shadow(0px 1px 2px rgba(0, 0, 0, 0.3));\n",
              "      fill: #FFFFFF;\n",
              "    }\n",
              "  </style>\n",
              "\n",
              "      <script>\n",
              "        const buttonEl =\n",
              "          document.querySelector('#df-eadb713e-453c-4d11-af9f-9f451ec69127 button.colab-df-convert');\n",
              "        buttonEl.style.display =\n",
              "          google.colab.kernel.accessAllowed ? 'block' : 'none';\n",
              "\n",
              "        async function convertToInteractive(key) {\n",
              "          const element = document.querySelector('#df-eadb713e-453c-4d11-af9f-9f451ec69127');\n",
              "          const dataTable =\n",
              "            await google.colab.kernel.invokeFunction('convertToInteractive',\n",
              "                                                     [key], {});\n",
              "          if (!dataTable) return;\n",
              "\n",
              "          const docLinkHtml = 'Like what you see? Visit the ' +\n",
              "            '<a target=\"_blank\" href=https://colab.research.google.com/notebooks/data_table.ipynb>data table notebook</a>'\n",
              "            + ' to learn more about interactive tables.';\n",
              "          element.innerHTML = '';\n",
              "          dataTable['output_type'] = 'display_data';\n",
              "          await google.colab.output.renderOutput(dataTable, element);\n",
              "          const docLink = document.createElement('div');\n",
              "          docLink.innerHTML = docLinkHtml;\n",
              "          element.appendChild(docLink);\n",
              "        }\n",
              "      </script>\n",
              "    </div>\n",
              "  </div>\n",
              "  "
            ],
            "text/plain": [
              "   Timestamp  Open  High   Low  ...  Weighted_Price  day  month  year\n",
              "0 2011-12-01  4.39  4.39  4.39  ...        4.390000    1     12  2011\n",
              "1 2011-12-01  4.39  4.39  4.39  ...        4.390000    1     12  2011\n",
              "2 2011-12-01  4.50  4.57  4.50  ...        4.526411    1     12  2011\n",
              "3 2011-12-01  4.58  4.58  4.58  ...        4.580000    1     12  2011\n",
              "4 2012-01-01  4.58  4.58  4.58  ...        4.580000    1      1  2012\n",
              "\n",
              "[5 rows x 11 columns]"
            ]
          },
          "metadata": {},
          "execution_count": 41
        }
      ]
    },
    {
      "cell_type": "code",
      "source": [
        "data.drop([\"Timestamp\"],axis=1,inplace=True)\n",
        "data\n"
      ],
      "metadata": {
        "id": "R4zQO_1df7_-",
        "colab": {
          "base_uri": "https://localhost:8080/",
          "height": 424
        },
        "outputId": "1d9f2391-c0ef-448f-ff31-d0b4b486e005"
      },
      "execution_count": null,
      "outputs": [
        {
          "output_type": "execute_result",
          "data": {
            "text/html": [
              "\n",
              "  <div id=\"df-b484dc6a-d02b-421f-971a-49ad8158ce80\">\n",
              "    <div class=\"colab-df-container\">\n",
              "      <div>\n",
              "<style scoped>\n",
              "    .dataframe tbody tr th:only-of-type {\n",
              "        vertical-align: middle;\n",
              "    }\n",
              "\n",
              "    .dataframe tbody tr th {\n",
              "        vertical-align: top;\n",
              "    }\n",
              "\n",
              "    .dataframe thead th {\n",
              "        text-align: right;\n",
              "    }\n",
              "</style>\n",
              "<table border=\"1\" class=\"dataframe\">\n",
              "  <thead>\n",
              "    <tr style=\"text-align: right;\">\n",
              "      <th></th>\n",
              "      <th>Open</th>\n",
              "      <th>High</th>\n",
              "      <th>Low</th>\n",
              "      <th>Close</th>\n",
              "      <th>Volume_BTC</th>\n",
              "      <th>Volume_Currency</th>\n",
              "      <th>Weighted_Price</th>\n",
              "      <th>day</th>\n",
              "      <th>month</th>\n",
              "      <th>year</th>\n",
              "    </tr>\n",
              "  </thead>\n",
              "  <tbody>\n",
              "    <tr>\n",
              "      <th>0</th>\n",
              "      <td>4.39</td>\n",
              "      <td>4.39</td>\n",
              "      <td>4.39</td>\n",
              "      <td>4.39</td>\n",
              "      <td>0.455581</td>\n",
              "      <td>2.000000</td>\n",
              "      <td>4.390000</td>\n",
              "      <td>1</td>\n",
              "      <td>12</td>\n",
              "      <td>2011</td>\n",
              "    </tr>\n",
              "    <tr>\n",
              "      <th>1</th>\n",
              "      <td>4.39</td>\n",
              "      <td>4.39</td>\n",
              "      <td>4.39</td>\n",
              "      <td>4.39</td>\n",
              "      <td>48.000000</td>\n",
              "      <td>210.720000</td>\n",
              "      <td>4.390000</td>\n",
              "      <td>1</td>\n",
              "      <td>12</td>\n",
              "      <td>2011</td>\n",
              "    </tr>\n",
              "    <tr>\n",
              "      <th>2</th>\n",
              "      <td>4.50</td>\n",
              "      <td>4.57</td>\n",
              "      <td>4.50</td>\n",
              "      <td>4.57</td>\n",
              "      <td>37.862297</td>\n",
              "      <td>171.380337</td>\n",
              "      <td>4.526411</td>\n",
              "      <td>1</td>\n",
              "      <td>12</td>\n",
              "      <td>2011</td>\n",
              "    </tr>\n",
              "    <tr>\n",
              "      <th>3</th>\n",
              "      <td>4.58</td>\n",
              "      <td>4.58</td>\n",
              "      <td>4.58</td>\n",
              "      <td>4.58</td>\n",
              "      <td>9.000000</td>\n",
              "      <td>41.220000</td>\n",
              "      <td>4.580000</td>\n",
              "      <td>1</td>\n",
              "      <td>12</td>\n",
              "      <td>2011</td>\n",
              "    </tr>\n",
              "    <tr>\n",
              "      <th>4</th>\n",
              "      <td>4.58</td>\n",
              "      <td>4.58</td>\n",
              "      <td>4.58</td>\n",
              "      <td>4.58</td>\n",
              "      <td>1.502000</td>\n",
              "      <td>6.879160</td>\n",
              "      <td>4.580000</td>\n",
              "      <td>1</td>\n",
              "      <td>1</td>\n",
              "      <td>2012</td>\n",
              "    </tr>\n",
              "    <tr>\n",
              "      <th>...</th>\n",
              "      <td>...</td>\n",
              "      <td>...</td>\n",
              "      <td>...</td>\n",
              "      <td>...</td>\n",
              "      <td>...</td>\n",
              "      <td>...</td>\n",
              "      <td>...</td>\n",
              "      <td>...</td>\n",
              "      <td>...</td>\n",
              "      <td>...</td>\n",
              "    </tr>\n",
              "    <tr>\n",
              "      <th>342164</th>\n",
              "      <td>734.60</td>\n",
              "      <td>734.60</td>\n",
              "      <td>730.00</td>\n",
              "      <td>734.55</td>\n",
              "      <td>1.789687</td>\n",
              "      <td>1313.640757</td>\n",
              "      <td>734.005698</td>\n",
              "      <td>1</td>\n",
              "      <td>12</td>\n",
              "      <td>2013</td>\n",
              "    </tr>\n",
              "    <tr>\n",
              "      <th>342165</th>\n",
              "      <td>734.55</td>\n",
              "      <td>734.55</td>\n",
              "      <td>730.71</td>\n",
              "      <td>730.71</td>\n",
              "      <td>0.110236</td>\n",
              "      <td>80.802051</td>\n",
              "      <td>732.991499</td>\n",
              "      <td>1</td>\n",
              "      <td>12</td>\n",
              "      <td>2013</td>\n",
              "    </tr>\n",
              "    <tr>\n",
              "      <th>342166</th>\n",
              "      <td>734.40</td>\n",
              "      <td>734.40</td>\n",
              "      <td>730.51</td>\n",
              "      <td>730.51</td>\n",
              "      <td>0.554786</td>\n",
              "      <td>407.247985</td>\n",
              "      <td>734.063488</td>\n",
              "      <td>1</td>\n",
              "      <td>12</td>\n",
              "      <td>2013</td>\n",
              "    </tr>\n",
              "    <tr>\n",
              "      <th>342167</th>\n",
              "      <td>730.51</td>\n",
              "      <td>733.63</td>\n",
              "      <td>730.51</td>\n",
              "      <td>731.10</td>\n",
              "      <td>0.620446</td>\n",
              "      <td>453.777190</td>\n",
              "      <td>731.372707</td>\n",
              "      <td>1</td>\n",
              "      <td>12</td>\n",
              "      <td>2013</td>\n",
              "    </tr>\n",
              "    <tr>\n",
              "      <th>342168</th>\n",
              "      <td>733.00</td>\n",
              "      <td>734.00</td>\n",
              "      <td>733.00</td>\n",
              "      <td>734.00</td>\n",
              "      <td>9.214205</td>\n",
              "      <td>6757.415227</td>\n",
              "      <td>733.369303</td>\n",
              "      <td>1</td>\n",
              "      <td>12</td>\n",
              "      <td>2013</td>\n",
              "    </tr>\n",
              "  </tbody>\n",
              "</table>\n",
              "<p>342169 rows × 10 columns</p>\n",
              "</div>\n",
              "      <button class=\"colab-df-convert\" onclick=\"convertToInteractive('df-b484dc6a-d02b-421f-971a-49ad8158ce80')\"\n",
              "              title=\"Convert this dataframe to an interactive table.\"\n",
              "              style=\"display:none;\">\n",
              "        \n",
              "  <svg xmlns=\"http://www.w3.org/2000/svg\" height=\"24px\"viewBox=\"0 0 24 24\"\n",
              "       width=\"24px\">\n",
              "    <path d=\"M0 0h24v24H0V0z\" fill=\"none\"/>\n",
              "    <path d=\"M18.56 5.44l.94 2.06.94-2.06 2.06-.94-2.06-.94-.94-2.06-.94 2.06-2.06.94zm-11 1L8.5 8.5l.94-2.06 2.06-.94-2.06-.94L8.5 2.5l-.94 2.06-2.06.94zm10 10l.94 2.06.94-2.06 2.06-.94-2.06-.94-.94-2.06-.94 2.06-2.06.94z\"/><path d=\"M17.41 7.96l-1.37-1.37c-.4-.4-.92-.59-1.43-.59-.52 0-1.04.2-1.43.59L10.3 9.45l-7.72 7.72c-.78.78-.78 2.05 0 2.83L4 21.41c.39.39.9.59 1.41.59.51 0 1.02-.2 1.41-.59l7.78-7.78 2.81-2.81c.8-.78.8-2.07 0-2.86zM5.41 20L4 18.59l7.72-7.72 1.47 1.35L5.41 20z\"/>\n",
              "  </svg>\n",
              "      </button>\n",
              "      \n",
              "  <style>\n",
              "    .colab-df-container {\n",
              "      display:flex;\n",
              "      flex-wrap:wrap;\n",
              "      gap: 12px;\n",
              "    }\n",
              "\n",
              "    .colab-df-convert {\n",
              "      background-color: #E8F0FE;\n",
              "      border: none;\n",
              "      border-radius: 50%;\n",
              "      cursor: pointer;\n",
              "      display: none;\n",
              "      fill: #1967D2;\n",
              "      height: 32px;\n",
              "      padding: 0 0 0 0;\n",
              "      width: 32px;\n",
              "    }\n",
              "\n",
              "    .colab-df-convert:hover {\n",
              "      background-color: #E2EBFA;\n",
              "      box-shadow: 0px 1px 2px rgba(60, 64, 67, 0.3), 0px 1px 3px 1px rgba(60, 64, 67, 0.15);\n",
              "      fill: #174EA6;\n",
              "    }\n",
              "\n",
              "    [theme=dark] .colab-df-convert {\n",
              "      background-color: #3B4455;\n",
              "      fill: #D2E3FC;\n",
              "    }\n",
              "\n",
              "    [theme=dark] .colab-df-convert:hover {\n",
              "      background-color: #434B5C;\n",
              "      box-shadow: 0px 1px 3px 1px rgba(0, 0, 0, 0.15);\n",
              "      filter: drop-shadow(0px 1px 2px rgba(0, 0, 0, 0.3));\n",
              "      fill: #FFFFFF;\n",
              "    }\n",
              "  </style>\n",
              "\n",
              "      <script>\n",
              "        const buttonEl =\n",
              "          document.querySelector('#df-b484dc6a-d02b-421f-971a-49ad8158ce80 button.colab-df-convert');\n",
              "        buttonEl.style.display =\n",
              "          google.colab.kernel.accessAllowed ? 'block' : 'none';\n",
              "\n",
              "        async function convertToInteractive(key) {\n",
              "          const element = document.querySelector('#df-b484dc6a-d02b-421f-971a-49ad8158ce80');\n",
              "          const dataTable =\n",
              "            await google.colab.kernel.invokeFunction('convertToInteractive',\n",
              "                                                     [key], {});\n",
              "          if (!dataTable) return;\n",
              "\n",
              "          const docLinkHtml = 'Like what you see? Visit the ' +\n",
              "            '<a target=\"_blank\" href=https://colab.research.google.com/notebooks/data_table.ipynb>data table notebook</a>'\n",
              "            + ' to learn more about interactive tables.';\n",
              "          element.innerHTML = '';\n",
              "          dataTable['output_type'] = 'display_data';\n",
              "          await google.colab.output.renderOutput(dataTable, element);\n",
              "          const docLink = document.createElement('div');\n",
              "          docLink.innerHTML = docLinkHtml;\n",
              "          element.appendChild(docLink);\n",
              "        }\n",
              "      </script>\n",
              "    </div>\n",
              "  </div>\n",
              "  "
            ],
            "text/plain": [
              "          Open    High     Low   Close  ...  Weighted_Price  day  month  year\n",
              "0         4.39    4.39    4.39    4.39  ...        4.390000    1     12  2011\n",
              "1         4.39    4.39    4.39    4.39  ...        4.390000    1     12  2011\n",
              "2         4.50    4.57    4.50    4.57  ...        4.526411    1     12  2011\n",
              "3         4.58    4.58    4.58    4.58  ...        4.580000    1     12  2011\n",
              "4         4.58    4.58    4.58    4.58  ...        4.580000    1      1  2012\n",
              "...        ...     ...     ...     ...  ...             ...  ...    ...   ...\n",
              "342164  734.60  734.60  730.00  734.55  ...      734.005698    1     12  2013\n",
              "342165  734.55  734.55  730.71  730.71  ...      732.991499    1     12  2013\n",
              "342166  734.40  734.40  730.51  730.51  ...      734.063488    1     12  2013\n",
              "342167  730.51  733.63  730.51  731.10  ...      731.372707    1     12  2013\n",
              "342168  733.00  734.00  733.00  734.00  ...      733.369303    1     12  2013\n",
              "\n",
              "[342169 rows x 10 columns]"
            ]
          },
          "metadata": {},
          "execution_count": 42
        }
      ]
    },
    {
      "cell_type": "markdown",
      "source": [
        "Split x and y"
      ],
      "metadata": {
        "id": "agmM6ZNe8ZXo"
      }
    },
    {
      "cell_type": "code",
      "source": [
        "x=data.drop(['Weighted_Price'],axis=1)"
      ],
      "metadata": {
        "id": "gS0xl994s6OR"
      },
      "execution_count": null,
      "outputs": []
    },
    {
      "cell_type": "code",
      "source": [
        "y=data.Weighted_Price"
      ],
      "metadata": {
        "id": "Axe9HjvKggWQ"
      },
      "execution_count": null,
      "outputs": []
    },
    {
      "cell_type": "code",
      "source": [
        "from sklearn.linear_model import LinearRegression\n",
        "from sklearn.model_selection import train_test_split"
      ],
      "metadata": {
        "id": "iv3DrsWUkpPb"
      },
      "execution_count": null,
      "outputs": []
    },
    {
      "cell_type": "markdown",
      "source": [
        "split x,y into train test split"
      ],
      "metadata": {
        "id": "IWEV0DMX8gQc"
      }
    },
    {
      "cell_type": "code",
      "source": [
        "\n",
        "xtrain,xtest,ytrain,ytest=train_test_split(x,y,test_size=.2)"
      ],
      "metadata": {
        "id": "3eE1aqtmk9IO"
      },
      "execution_count": null,
      "outputs": []
    },
    {
      "cell_type": "markdown",
      "source": [
        "Model Creation"
      ],
      "metadata": {
        "id": "LhsaEoKE8tVa"
      }
    },
    {
      "cell_type": "code",
      "source": [
        "model=LinearRegression()\n",
        "# m=RandomForestRegressor()\n",
        "# m1=DecisionTreeRegressor()"
      ],
      "metadata": {
        "id": "PHBrMSO3lixh"
      },
      "execution_count": null,
      "outputs": []
    },
    {
      "cell_type": "code",
      "source": [
        "model.fit(xtrain,ytrain)\n",
        "#m.fit(xtrain,ytrain)\n",
        "#m1.fit(xtrain,ytrain)\n"
      ],
      "metadata": {
        "id": "Mq-PA5exlkvc",
        "colab": {
          "base_uri": "https://localhost:8080/"
        },
        "outputId": "e6944ddc-6627-412f-af1d-0d59891270f2"
      },
      "execution_count": null,
      "outputs": [
        {
          "output_type": "execute_result",
          "data": {
            "text/plain": [
              "LinearRegression()"
            ]
          },
          "metadata": {},
          "execution_count": 48
        }
      ]
    },
    {
      "cell_type": "markdown",
      "source": [
        "Check Accuracy"
      ],
      "metadata": {
        "id": "qJ_GJGC88xPW"
      }
    },
    {
      "cell_type": "code",
      "source": [
        "model.score(xtest,ytest)\n",
        "# m.score(xtest,ytest)\n",
        "# m1.score(xtest,ytest)\n"
      ],
      "metadata": {
        "id": "H_xFBHdSln7N",
        "colab": {
          "base_uri": "https://localhost:8080/"
        },
        "outputId": "814be549-cb0a-48d4-ba87-40c3a7e6a738"
      },
      "execution_count": null,
      "outputs": [
        {
          "output_type": "execute_result",
          "data": {
            "text/plain": [
              "0.9999954272273276"
            ]
          },
          "metadata": {},
          "execution_count": 49
        }
      ]
    },
    {
      "cell_type": "markdown",
      "source": [
        "Prediction"
      ],
      "metadata": {
        "id": "iYyJXwd783_m"
      }
    },
    {
      "cell_type": "code",
      "source": [
        "model.predict([[4.39,4.39,4.39,4.39,0.455581,2.000000,1,12,2011]])"
      ],
      "metadata": {
        "id": "XgLa7zOMBQqY",
        "colab": {
          "base_uri": "https://localhost:8080/"
        },
        "outputId": "452b7e7e-8dbe-43d7-c3e7-8619e78b1c2b"
      },
      "execution_count": null,
      "outputs": [
        {
          "output_type": "stream",
          "name": "stderr",
          "text": [
            "/usr/local/lib/python3.7/dist-packages/sklearn/base.py:451: UserWarning: X does not have valid feature names, but LinearRegression was fitted with feature names\n",
            "  \"X does not have valid feature names, but\"\n"
          ]
        },
        {
          "output_type": "execute_result",
          "data": {
            "text/plain": [
              "array([4.38832277])"
            ]
          },
          "metadata": {},
          "execution_count": 51
        }
      ]
    },
    {
      "cell_type": "code",
      "source": [
        "y_pred=model.predict(xtest)"
      ],
      "metadata": {
        "id": "VKg9MwuNubN3"
      },
      "execution_count": null,
      "outputs": []
    },
    {
      "cell_type": "code",
      "source": [
        "evs=explained_variance_score(ytest,y_pred)\n",
        "print(evs)\n",
        "mse=mean_absolute_error(ytest,y_pred)\n",
        "print(mse)\n",
        "mse=mean_squared_error(ytest,y_pred)\n",
        "print(mse)\n",
        "rmse=sqrt(mse)\n",
        "print(rmse)"
      ],
      "metadata": {
        "colab": {
          "base_uri": "https://localhost:8080/"
        },
        "id": "4okyRYWXukqh",
        "outputId": "56146207-04ba-4ddf-f9f7-24bf7a654911"
      },
      "execution_count": null,
      "outputs": [
        {
          "output_type": "stream",
          "name": "stdout",
          "text": [
            "0.9999954272285082\n",
            "0.17443704857959152\n",
            "0.33572587987116675\n",
            "0.5794185705266675\n"
          ]
        }
      ]
    },
    {
      "cell_type": "code",
      "source": [
        "from sklearn import metrics\n",
        "metrics.r2_score(ytest,y_pred)"
      ],
      "metadata": {
        "colab": {
          "base_uri": "https://localhost:8080/"
        },
        "id": "Yg_NJc7HukoA",
        "outputId": "697c8fe6-8093-4128-a0e5-fa344ee4a3b8"
      },
      "execution_count": null,
      "outputs": [
        {
          "output_type": "execute_result",
          "data": {
            "text/plain": [
              "0.9999954272273276"
            ]
          },
          "metadata": {},
          "execution_count": 54
        }
      ]
    },
    {
      "cell_type": "code",
      "source": [
        "import pickle"
      ],
      "metadata": {
        "id": "bNnng4EUv3XW"
      },
      "execution_count": null,
      "outputs": []
    },
    {
      "cell_type": "markdown",
      "source": [
        "Pickle creation"
      ],
      "metadata": {
        "id": "q-ML7QzJ9Ai3"
      }
    },
    {
      "cell_type": "code",
      "source": [
        "file=open(\"bitcoin.pkl\",\"wb\")\n",
        "pickle.dump(model,file)"
      ],
      "metadata": {
        "id": "DVuk5Acsukkm"
      },
      "execution_count": null,
      "outputs": []
    },
    {
      "cell_type": "code",
      "source": [
        "a=open(\"bitcoin.pkl\",\"rb\")\n",
        "pickle=pickle.load(a)"
      ],
      "metadata": {
        "id": "K71uHrklukis"
      },
      "execution_count": null,
      "outputs": []
    },
    {
      "cell_type": "code",
      "source": [
        "y_pred=pickle.predict(xtest)"
      ],
      "metadata": {
        "id": "OdZNotPTukfP"
      },
      "execution_count": null,
      "outputs": []
    },
    {
      "cell_type": "code",
      "source": [
        "pickle.score(xtest,ytest)"
      ],
      "metadata": {
        "colab": {
          "base_uri": "https://localhost:8080/"
        },
        "id": "GeUqe4uxukdr",
        "outputId": "20fae1d9-c00a-4cfc-9f0d-731cbf75e998"
      },
      "execution_count": null,
      "outputs": [
        {
          "output_type": "execute_result",
          "data": {
            "text/plain": [
              "0.9999954272273276"
            ]
          },
          "metadata": {},
          "execution_count": 61
        }
      ]
    },
    {
      "cell_type": "code",
      "source": [
        "pickle.predict([[4.39,4.39,4.39,4.39,0.455581,2.000000,1,12,2011]])"
      ],
      "metadata": {
        "id": "JbYONeVIBhcw",
        "colab": {
          "base_uri": "https://localhost:8080/"
        },
        "outputId": "0d0c040c-91c7-4e9d-9a0c-b3e6c60ef0a9"
      },
      "execution_count": null,
      "outputs": [
        {
          "output_type": "stream",
          "name": "stderr",
          "text": [
            "/usr/local/lib/python3.7/dist-packages/sklearn/base.py:451: UserWarning: X does not have valid feature names, but LinearRegression was fitted with feature names\n",
            "  \"X does not have valid feature names, but\"\n"
          ]
        },
        {
          "output_type": "execute_result",
          "data": {
            "text/plain": [
              "array([4.38832277])"
            ]
          },
          "metadata": {},
          "execution_count": 62
        }
      ]
    },
    {
      "cell_type": "code",
      "source": [
        ""
      ],
      "metadata": {
        "id": "sYXW3ksmuKZj"
      },
      "execution_count": null,
      "outputs": []
    }
  ]
}